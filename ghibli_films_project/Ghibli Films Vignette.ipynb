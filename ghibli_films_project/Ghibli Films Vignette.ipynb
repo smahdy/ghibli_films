{
 "cells": [
  {
   "cell_type": "code",
   "execution_count": 1,
   "id": "cdbf1468",
   "metadata": {},
   "outputs": [
    {
     "name": "stdout",
     "output_type": "stream",
     "text": [
      "Looking in indexes: https://test.pypi.org/simple/, https://pypi.org/simple/\n",
      "Requirement already satisfied: ghibli_films in c:\\users\\salim\\appdata\\local\\pypoetry\\cache\\virtualenvs\\salim-m94vdohw-py3.9\\lib\\site-packages (0.1.0)\n",
      "Requirement already satisfied: pytest<7.0.0,>=6.2.5 in c:\\users\\salim\\appdata\\local\\pypoetry\\cache\\virtualenvs\\salim-m94vdohw-py3.9\\lib\\site-packages (from ghibli_films) (6.2.5)\n",
      "Requirement already satisfied: pandas<2.0.0,>=1.3.5 in c:\\users\\salim\\appdata\\local\\pypoetry\\cache\\virtualenvs\\salim-m94vdohw-py3.9\\lib\\site-packages (from ghibli_films) (1.3.5)\n",
      "Requirement already satisfied: requests<3.0.0,>=2.26.0 in c:\\users\\salim\\appdata\\local\\pypoetry\\cache\\virtualenvs\\salim-m94vdohw-py3.9\\lib\\site-packages (from ghibli_films) (2.26.0)\n",
      "Requirement already satisfied: pytz>=2017.3 in c:\\users\\salim\\appdata\\local\\pypoetry\\cache\\virtualenvs\\salim-m94vdohw-py3.9\\lib\\site-packages (from pandas<2.0.0,>=1.3.5->ghibli_films) (2021.1)\n",
      "Requirement already satisfied: numpy>=1.17.3 in c:\\users\\salim\\appdata\\local\\pypoetry\\cache\\virtualenvs\\salim-m94vdohw-py3.9\\lib\\site-packages (from pandas<2.0.0,>=1.3.5->ghibli_films) (1.21.1)\n",
      "Requirement already satisfied: python-dateutil>=2.7.3 in c:\\users\\salim\\appdata\\local\\pypoetry\\cache\\virtualenvs\\salim-m94vdohw-py3.9\\lib\\site-packages (from pandas<2.0.0,>=1.3.5->ghibli_films) (2.8.2)\n",
      "Requirement already satisfied: toml in c:\\users\\salim\\appdata\\local\\pypoetry\\cache\\virtualenvs\\salim-m94vdohw-py3.9\\lib\\site-packages (from pytest<7.0.0,>=6.2.5->ghibli_films) (0.10.2)\n",
      "Requirement already satisfied: colorama in c:\\users\\salim\\appdata\\local\\pypoetry\\cache\\virtualenvs\\salim-m94vdohw-py3.9\\lib\\site-packages (from pytest<7.0.0,>=6.2.5->ghibli_films) (0.4.4)\n",
      "Requirement already satisfied: packaging in c:\\users\\salim\\appdata\\local\\pypoetry\\cache\\virtualenvs\\salim-m94vdohw-py3.9\\lib\\site-packages (from pytest<7.0.0,>=6.2.5->ghibli_films) (21.0)\n",
      "Requirement already satisfied: attrs>=19.2.0 in c:\\users\\salim\\appdata\\local\\pypoetry\\cache\\virtualenvs\\salim-m94vdohw-py3.9\\lib\\site-packages (from pytest<7.0.0,>=6.2.5->ghibli_films) (21.2.0)\n",
      "Requirement already satisfied: pluggy<2.0,>=0.12 in c:\\users\\salim\\appdata\\local\\pypoetry\\cache\\virtualenvs\\salim-m94vdohw-py3.9\\lib\\site-packages (from pytest<7.0.0,>=6.2.5->ghibli_films) (1.0.0)\n",
      "Requirement already satisfied: py>=1.8.2 in c:\\users\\salim\\appdata\\local\\pypoetry\\cache\\virtualenvs\\salim-m94vdohw-py3.9\\lib\\site-packages (from pytest<7.0.0,>=6.2.5->ghibli_films) (1.11.0)\n",
      "Requirement already satisfied: iniconfig in c:\\users\\salim\\appdata\\local\\pypoetry\\cache\\virtualenvs\\salim-m94vdohw-py3.9\\lib\\site-packages (from pytest<7.0.0,>=6.2.5->ghibli_films) (1.1.1)\n",
      "Requirement already satisfied: atomicwrites>=1.0 in c:\\users\\salim\\appdata\\local\\pypoetry\\cache\\virtualenvs\\salim-m94vdohw-py3.9\\lib\\site-packages (from pytest<7.0.0,>=6.2.5->ghibli_films) (1.4.0)\n",
      "Requirement already satisfied: six>=1.5 in c:\\users\\salim\\appdata\\local\\pypoetry\\cache\\virtualenvs\\salim-m94vdohw-py3.9\\lib\\site-packages (from python-dateutil>=2.7.3->pandas<2.0.0,>=1.3.5->ghibli_films) (1.16.0)\n",
      "Requirement already satisfied: urllib3<1.27,>=1.21.1 in c:\\users\\salim\\appdata\\local\\pypoetry\\cache\\virtualenvs\\salim-m94vdohw-py3.9\\lib\\site-packages (from requests<3.0.0,>=2.26.0->ghibli_films) (1.26.7)\n",
      "Requirement already satisfied: idna<4,>=2.5 in c:\\users\\salim\\appdata\\local\\pypoetry\\cache\\virtualenvs\\salim-m94vdohw-py3.9\\lib\\site-packages (from requests<3.0.0,>=2.26.0->ghibli_films) (3.3)\n",
      "Requirement already satisfied: charset-normalizer~=2.0.0 in c:\\users\\salim\\appdata\\local\\pypoetry\\cache\\virtualenvs\\salim-m94vdohw-py3.9\\lib\\site-packages (from requests<3.0.0,>=2.26.0->ghibli_films) (2.0.9)\n",
      "Requirement already satisfied: certifi>=2017.4.17 in c:\\users\\salim\\appdata\\local\\pypoetry\\cache\\virtualenvs\\salim-m94vdohw-py3.9\\lib\\site-packages (from requests<3.0.0,>=2.26.0->ghibli_films) (2021.10.8)\n",
      "Requirement already satisfied: pyparsing>=2.0.2 in c:\\users\\salim\\appdata\\local\\pypoetry\\cache\\virtualenvs\\salim-m94vdohw-py3.9\\lib\\site-packages (from packaging->pytest<7.0.0,>=6.2.5->ghibli_films) (2.4.7)\n",
      "Note: you may need to restart the kernel to use updated packages.\n"
     ]
    },
    {
     "name": "stderr",
     "output_type": "stream",
     "text": [
      "WARNING: You are using pip version 21.2.4; however, version 21.3.1 is available.\n",
      "You should consider upgrading via the 'C:\\Users\\salim\\AppData\\Local\\pypoetry\\Cache\\virtualenvs\\salim-m94VdoHw-py3.9\\Scripts\\python.exe -m pip install --upgrade pip' command.\n"
     ]
    }
   ],
   "source": [
    "pip install -i https://test.pypi.org/simple/ --extra-index-url https://pypi.org/simple/ ghibli_films"
   ]
  },
  {
   "cell_type": "code",
   "execution_count": 3,
   "id": "2a07e845",
   "metadata": {},
   "outputs": [],
   "source": [
    "from ghibli_films import ghibli_films"
   ]
  },
  {
   "cell_type": "code",
   "execution_count": 11,
   "id": "6fa37909",
   "metadata": {},
   "outputs": [
    {
     "name": "stdout",
     "output_type": "stream",
     "text": [
      "Castle in the Sky, directed by Hayao Miyazaki and produced by Isao Takahata, was release in 1986 with a run time of 124 minutes. The original title in Japanese, 天空の城ラピュタ, is pronounced Tenkū no shiro Rapyuta.\n"
     ]
    }
   ],
   "source": [
    "ghibli_films.get_film(\"Castle in the Sky\")"
   ]
  },
  {
   "cell_type": "code",
   "execution_count": 16,
   "id": "9c3e95cf",
   "metadata": {},
   "outputs": [
    {
     "name": "stdout",
     "output_type": "stream",
     "text": [
      "According to Rotten Tomatoes, Castle in the Sky earned a score of 95 designating it Fresh!\n"
     ]
    }
   ],
   "source": [
    "ghibli_films.get_rating(\"Castle in the Sky\")"
   ]
  },
  {
   "cell_type": "code",
   "execution_count": 17,
   "id": "d86d3f0c",
   "metadata": {},
   "outputs": [
    {
     "name": "stdout",
     "output_type": "stream",
     "text": [
      "Summary of Castle in the Sky: The orphan Sheeta inherited a mysterious crystal that links her to the mythical sky-kingdom of Laputa. With the help of resourceful Pazu and a rollicking band of sky pirates, she makes her way to the ruins of the once-great civilization. Sheeta and Pazu must outwit the evil Muska, who plans to use Laputa's science to make himself ruler of the world.\n"
     ]
    }
   ],
   "source": [
    "ghibli_films.get_summary(\"Castle in the Sky\")"
   ]
  },
  {
   "cell_type": "code",
   "execution_count": 18,
   "id": "6eb806ed",
   "metadata": {},
   "outputs": [
    {
     "name": "stdout",
     "output_type": "stream",
     "text": [
      "Kiki's Delivery Service, directed by Hayao Miyazaki and produced by Hayao Miyazaki, was release in 1989 with a run time of 102 minutes. The original title in Japanese, 魔女の宅急便, is pronounced Majo no takkyūbin.\n"
     ]
    }
   ],
   "source": [
    "ghibli_films.get_film(\"Kiki's Delivery Service\")"
   ]
  },
  {
   "cell_type": "code",
   "execution_count": 19,
   "id": "58761d34",
   "metadata": {},
   "outputs": [
    {
     "name": "stdout",
     "output_type": "stream",
     "text": [
      "According to Rotten Tomatoes, Kiki's Delivery Service earned a score of 96 designating it Fresh!\n"
     ]
    }
   ],
   "source": [
    "ghibli_films.get_rating(\"Kiki's Delivery Service\")"
   ]
  },
  {
   "cell_type": "code",
   "execution_count": 20,
   "id": "251a575a",
   "metadata": {},
   "outputs": [
    {
     "name": "stdout",
     "output_type": "stream",
     "text": [
      "Summary of Kiki's Delivery Service: A young witch, on her mandatory year of independent life, finds fitting into a new community difficult while she supports herself by running an air courier service.\n"
     ]
    }
   ],
   "source": [
    "ghibli_films.get_summary(\"Kiki's Delivery Service\")"
   ]
  },
  {
   "cell_type": "code",
   "execution_count": 4,
   "id": "d160e486",
   "metadata": {},
   "outputs": [
    {
     "name": "stdout",
     "output_type": "stream",
     "text": [
      "Ponyo, directed by Hayao Miyazaki and produced by Toshio Suzuki, was release in 2008 with a run time of 100 minutes. The original title in Japanese, 崖の上のポニョ, is pronounced Gake no ue no Ponyo.\n"
     ]
    }
   ],
   "source": [
    "ghibli_films.get_film(\"Ponyo\")"
   ]
  },
  {
   "cell_type": "code",
   "execution_count": 5,
   "id": "7fe80a6f",
   "metadata": {},
   "outputs": [
    {
     "name": "stdout",
     "output_type": "stream",
     "text": [
      "According to Rotten Tomatoes, Ponyo earned a score of 92 designating it Fresh!\n"
     ]
    }
   ],
   "source": [
    "ghibli_films.get_rating(\"Ponyo\")"
   ]
  },
  {
   "cell_type": "code",
   "execution_count": 6,
   "id": "ba0232c3",
   "metadata": {},
   "outputs": [
    {
     "name": "stdout",
     "output_type": "stream",
     "text": [
      "Summary of Ponyo: The son of a sailor, 5-year old Sosuke lives a quiet life on an oceanside cliff with his mother Lisa. One fateful day, he finds a beautiful goldfish trapped in a bottle on the beach and upon rescuing her, names her Ponyo. But she is no ordinary goldfish. The daughter of a masterful wizard and a sea goddess, Ponyo uses her father's magic to transform herself into a young girl and quickly falls in love with Sosuke, but the use of such powerful sorcery causes a dangerous imbalance in the world. As the moon steadily draws nearer to the earth and Ponyo's father sends the ocean's mighty waves to find his daughter, the two children embark on an adventure of a lifetime to save the world and fulfill Ponyo's dreams of becoming human.\n"
     ]
    }
   ],
   "source": [
    "ghibli_films.get_summary(\"Ponyo\")"
   ]
  }
 ],
 "metadata": {
  "kernelspec": {
   "display_name": "Python 3 (ipykernel)",
   "language": "python",
   "name": "python3"
  },
  "language_info": {
   "codemirror_mode": {
    "name": "ipython",
    "version": 3
   },
   "file_extension": ".py",
   "mimetype": "text/x-python",
   "name": "python",
   "nbconvert_exporter": "python",
   "pygments_lexer": "ipython3",
   "version": "3.9.0"
  }
 },
 "nbformat": 4,
 "nbformat_minor": 5
}
