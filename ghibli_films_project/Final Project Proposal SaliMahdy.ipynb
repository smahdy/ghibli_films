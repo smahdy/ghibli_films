{
 "cells": [
  {
   "cell_type": "markdown",
   "id": "4a69d21e",
   "metadata": {},
   "source": [
    "## Name of project \n",
    "\n",
    "Studio Ghibli\n",
    "\n",
    "## Type of project\n",
    "\n",
    "Type A: API Client\n",
    "\n",
    "## Brief description of the purpose\n",
    "The Studio Ghibli API is a catalog of people, places, and things found in the world of Ghibli. The API contains information on films, characters, species, locations, and vehicles found in Ghibli movies.  \n",
    "This project  will utilize the Studio Ghibli API to allow users to consume the information in a useful way. Users will provide the name of a film in a get films function which will generate the original title, orginal title romanised, director, release date, and run time. An additional function will also require the name of the film and will generate a Rotten Tomatoes designation of Certified Fresh or Rotten based on the rating of the film. \n",
    "\n",
    "\n",
    "## Links to data sources / API etc.\n",
    "\n",
    "No API keys are required.\n",
    "\n",
    "https://ghibliapi.herokuapp.com/#\n",
    "\n",
    "\n",
    "## Outline the technical steps / challenges you plan to address and include in your submission.\n",
    "\n",
    "-Make a successful get request to obtain the data\n",
    "\n",
    "-Create a function that allows users to input a film's title and returns the original title, orginal title romanised, director, release date, and run time of the film.\n",
    "\n",
    "-Create a function that allows users to input film's title and returns a Rotten Tomoatoes rating for the film. \n",
    "\n",
    "-Wrap in a Python package\n",
    "\n",
    "\n",
    "## Are there any significant hurdles that you have doubts about? Would not solving them render the project incomplete?\n",
    " When I make a request I get a list of dictionaries with no parent child relationship. I'm not sure if that matters at this early stage in thinking about this project, but would appreciate if I could get some clarification if it will be a problem and how to resolve it. "
   ]
  }
 ],
 "metadata": {
  "kernelspec": {
   "display_name": "Python 3",
   "language": "python",
   "name": "python3"
  },
  "language_info": {
   "codemirror_mode": {
    "name": "ipython",
    "version": 3
   },
   "file_extension": ".py",
   "mimetype": "text/x-python",
   "name": "python",
   "nbconvert_exporter": "python",
   "pygments_lexer": "ipython3",
   "version": "3.8.8"
  }
 },
 "nbformat": 4,
 "nbformat_minor": 5
}
