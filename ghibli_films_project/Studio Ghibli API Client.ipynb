{
 "cells": [
  {
   "cell_type": "code",
   "execution_count": 1,
   "id": "f4e7414d",
   "metadata": {},
   "outputs": [],
   "source": [
    "import requests \n",
    "import pandas as pd\n",
    "import numpy as np\n",
    "import json\n",
    "\n",
    "import warnings\n",
    "warnings.filterwarnings('ignore')"
   ]
  },
  {
   "cell_type": "code",
   "execution_count": 2,
   "id": "9903724e",
   "metadata": {},
   "outputs": [],
   "source": [
    "r_films=requests.get(\"https://ghibliapi.herokuapp.com/films\")\n",
    "data=r_films.json()"
   ]
  },
  {
   "cell_type": "code",
   "execution_count": 5,
   "id": "774d3edf",
   "metadata": {},
   "outputs": [],
   "source": [
    "ghibli_df=pd.DataFrame.from_dict(pd.json_normalize(data), orient='columns')"
   ]
  },
  {
   "cell_type": "code",
   "execution_count": 6,
   "id": "4209e9c9",
   "metadata": {},
   "outputs": [],
   "source": [
    "#subsetting data\n",
    "ghibli=ghibli_df[['title','original_title', 'original_title_romanised', 'description', 'director', 'producer', 'release_date', 'running_time', 'rt_score']]\n"
   ]
  },
  {
   "cell_type": "code",
   "execution_count": 25,
   "id": "0e3d62e0",
   "metadata": {
    "scrolled": true
   },
   "outputs": [],
   "source": [
    "#adding information about the film in sentence form to the dataframe \n",
    "ghibli.loc[:,'output']=ghibli.apply(lambda x:f'{x[\"title\"]}, directed by {x[\"director\"]} and produced by {x[\"producer\"]}, was release in {x[\"release_date\"]} with a run time of {x[\"running_time\"]} minutes. The original title in Japanese, {x[\"original_title\"]}, is pronounced {x[\"original_title_romanised\"]}.', axis=1)"
   ]
  },
  {
   "cell_type": "code",
   "execution_count": 10,
   "id": "cb6033b3",
   "metadata": {},
   "outputs": [],
   "source": [
    "#define function to get rating based on Rotten Tomatoes classification system\n",
    "def rating(r):\n",
    "    if r >=60:\n",
    "        return 'Fresh!'\n",
    "    else:\n",
    "        return 'Rotten!'\n",
    "    "
   ]
  },
  {
   "cell_type": "code",
   "execution_count": 26,
   "id": "cc91e3d7",
   "metadata": {},
   "outputs": [],
   "source": [
    "#convert rt_score from string to integer\n",
    "ghibli['score']=ghibli['rt_score'].astype(int)"
   ]
  },
  {
   "cell_type": "code",
   "execution_count": 29,
   "id": "f10a7034",
   "metadata": {},
   "outputs": [],
   "source": [
    "#apply function to rating score and adding it to dataframe\n",
    "ghibli['rtscore']=ghibli['score'].apply(rating)"
   ]
  },
  {
   "cell_type": "code",
   "execution_count": 30,
   "id": "82fdd1f3",
   "metadata": {},
   "outputs": [],
   "source": [
    "#adding ratings information in sentence form to the dataframe \n",
    "ghibli['RT']=ghibli.apply(lambda y:f'According to Rotten Tomatoes, {y[\"title\"]} earned a score of {y[\"score\"]} designating it {y[\"rtscore\"]}', axis=1)"
   ]
  },
  {
   "cell_type": "code",
   "execution_count": 14,
   "id": "a38c0c73",
   "metadata": {},
   "outputs": [],
   "source": [
    "#adding a summary for each film to the dataframe\n",
    "ghibli.loc[:,'summary']=ghibli.apply(lambda z:f'Summary of {z[\"title\"]}: {z[\"description\"]}', axis=1)"
   ]
  },
  {
   "cell_type": "code",
   "execution_count": 16,
   "id": "8f1bbf80",
   "metadata": {},
   "outputs": [],
   "source": [
    "#function that returns basic information on a given Studio Ghibli film\n",
    "def get_film(title):\n",
    "    '''Returns information on Studio Ghibli films in sentence format.\n",
    "   \n",
    "    Parameters\n",
    "    ----------\n",
    "    title: title of a film. (str)\n",
    "    \n",
    "    Returns \n",
    "    -------\n",
    "    Returns information on a given film, including the director, producer, release year, run time, and film's pronunciation in Japanese. (str)\n",
    "    \n",
    "    Example\n",
    "    --------\n",
    "    >>> get_film(title='Princess Mononoke')\n",
    "    >>>Princess Mononoke, directed by Hayao Miyazaki and produced by Toshio Suzuki, was released in 1997 with a run time of 134 minutes. The original title in Japanese, もののけ姫, is pronounced Mononoke hime.\n",
    "    '''\n",
    "    \n",
    "    try:\n",
    "        r_films=requests.get(\"https://ghibliapi.herokuapp.com/films\")\n",
    "        r_films.raise_for_status()\n",
    "        \n",
    "    except HTTPError as http_err:\n",
    "        print(f'HTTP Error Occured: {http_err}')\n",
    "    except Exception as err:\n",
    "        print(f'Other Error Occured: {err}')\n",
    "            \n",
    "    else:\n",
    "        ghibli=pd.DataFrame.from_dict(pd.json_normalize(r_films.json()), orient='columns')\n",
    "        ghibli['output']=ghibli.apply(lambda x:f'{x[\"title\"]}, directed by {x[\"director\"]} and produced by {x[\"producer\"]}, was released in {x[\"release_date\"]} with a run time of {x[\"running_time\"]} minutes. The original title in Japanese, {x[\"original_title\"]}, is pronounced {x[\"original_title_romanised\"]}.', axis=1)\n",
    "        row=ghibli[ghibli['title']==title].index.item()\n",
    "        return ghibli['output'][row]\n",
    "        \n",
    "        assert 'title'!=title, \"This film is unavailable.\"\n",
    "        "
   ]
  },
  {
   "cell_type": "code",
   "execution_count": 18,
   "id": "e8d8f56a",
   "metadata": {},
   "outputs": [],
   "source": [
    "#function that provides the rating of a given Studio Ghibli film\n",
    "def get_rating(title):\n",
    "    '''Returns the rating of Studio Ghibli film in sentence format.\n",
    "   \n",
    "    Parameters\n",
    "    ----------\n",
    "    title: title of a film. (str)\n",
    "    \n",
    "    Returns \n",
    "    -------\n",
    "    Returns the Rotten Tomatoes score for a given film. (str)\n",
    "    \n",
    "    Example\n",
    "    --------\n",
    "    >>>get_rating(title='Princess Mononoke')\n",
    "    >>>According to Rotten Tomatoes, Princess Mononoke earned a score of 92 designating it Fresh! \n",
    "    '''\n",
    "    try:\n",
    "        r_films=requests.get(\"https://ghibliapi.herokuapp.com/films\")\n",
    "        r_films.raise_for_status()\n",
    "        \n",
    "    except HTTPError as http_err:\n",
    "        print(f'HTTP Error Occured: {http_err}')\n",
    "    except Exception as err:\n",
    "        print(f'Other Error Occured: {err}')\n",
    "    \n",
    "    def rating(r):\n",
    "        if r >=60:\n",
    "            return 'Fresh!'\n",
    "        else:\n",
    "            return 'Rotten!'\n",
    "    \n",
    "    ghibli=pd.DataFrame.from_dict(pd.json_normalize(r_films.json()), orient='columns')\n",
    "    ghibli['score']=ghibli['rt_score'].astype(int)\n",
    "    ghibli['rtscore']=ghibli['score'].apply(rating)\n",
    "    ghibli['RT']=ghibli.apply(lambda y:f'According to Rotten Tomatoes, {y[\"title\"]} earned a score of {y[\"score\"]} designating it {y[\"rtscore\"]}', axis=1)\n",
    "    row=ghibli[ghibli['title']==title].index.item()\n",
    "    return ghibli['RT'][row]\n",
    "    \n",
    "    assert 'title'!=title, \"Rating for this film is unavailable.\"\n",
    "    \n",
    "    \n"
   ]
  },
  {
   "cell_type": "code",
   "execution_count": 20,
   "id": "8944e46b",
   "metadata": {},
   "outputs": [],
   "source": [
    "#function that provides a summary of a Studio Ghibli film\n",
    "def get_summary(title):\n",
    "    '''Returns a summary of a Studio Ghibli films in sentence format.\n",
    "   \n",
    "    Parameters\n",
    "    ----------\n",
    "    title: title of a film. (str)\n",
    "    \n",
    "    Returns \n",
    "    -------\n",
    "    Returns a summary of a given film. (str)\n",
    "    \n",
    "    Example\n",
    "    --------\n",
    "    >>> get_film(title='Princess Mononoke')\n",
    "    >>>Princess Mononoke, directed by Hayao Miyazaki and produced by Toshio Suzuki, was release in 1997 with a run time of 134 minutes. The original title in Japanese, もののけ姫, is pronounced Mononoke hime.\n",
    "    '''\n",
    "    try:\n",
    "        r_films=requests.get(\"https://ghibliapi.herokuapp.com/films\")\n",
    "        r_films.raise_for_status()\n",
    "        \n",
    "    except HTTPError as http_err:\n",
    "        print(f'HTTP Error Occured: {http_err}')\n",
    "    except Exception as err:\n",
    "        print(f'Other Error Occured: {err}')\n",
    "    \n",
    "    \n",
    "    ghibli=pd.DataFrame.from_dict(pd.json_normalize(r_films.json()), orient='columns')\n",
    "    ghibli['summary']=ghibli.apply(lambda z:f'Summary of {z[\"title\"]}: {z[\"description\"]}', axis=1)\n",
    "    row=ghibli[ghibli['title']==title].index.item()\n",
    "    return ghibli['summary'][row]\n",
    "    \n",
    "    assert 'title'!=title, \"Summary for this film is unavailable.\""
   ]
  }
 ],
 "metadata": {
  "kernelspec": {
   "display_name": "Python 3",
   "language": "python",
   "name": "python3"
  },
  "language_info": {
   "codemirror_mode": {
    "name": "ipython",
    "version": 3
   },
   "file_extension": ".py",
   "mimetype": "text/x-python",
   "name": "python",
   "nbconvert_exporter": "python",
   "pygments_lexer": "ipython3",
   "version": "3.8.8"
  }
 },
 "nbformat": 4,
 "nbformat_minor": 5
}
